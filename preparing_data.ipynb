{
 "cells": [
  {
   "cell_type": "code",
   "execution_count": 78,
   "id": "4c0f3273-f27c-48b4-8754-c736c907c3cf",
   "metadata": {
    "colab": {
     "base_uri": "https://localhost:8080/"
    },
    "id": "4c0f3273-f27c-48b4-8754-c736c907c3cf",
    "outputId": "b2607566-43b6-4172-d354-7bef422ed1bb",
    "tags": []
   },
   "outputs": [
    {
     "name": "stdout",
     "output_type": "stream",
     "text": [
      "Requirement already satisfied: pyspark in /home/ec2-user/anaconda3/envs/tensorflow2_p310/lib/python3.10/site-packages (3.3.0)\n",
      "Requirement already satisfied: py4j==0.10.9.5 in /home/ec2-user/anaconda3/envs/tensorflow2_p310/lib/python3.10/site-packages (from pyspark) (0.10.9.5)\n",
      "Requirement already satisfied: py4j in /home/ec2-user/anaconda3/envs/tensorflow2_p310/lib/python3.10/site-packages (0.10.9.5)\n"
     ]
    }
   ],
   "source": [
    "# Initial imports\n",
    "import pandas as pd\n",
    "import numpy as np\n",
    "from pathlib import Path\n",
    "from sklearn.model_selection import train_test_split\n",
    "from sklearn.preprocessing import StandardScaler\n",
    "from sklearn.ensemble import RandomForestClassifier\n",
    "from sklearn.metrics import classification_report, confusion_matrix, accuracy_score\n",
    "from pprint import pprint\n",
    "import psycopg2\n",
    "from psycopg2 import sql\n",
    "\n",
    "#Spark imports\n",
    "!wget -q https://dlcdn.apache.org/spark/spark-3.5.0/spark-3.5.0-bin-hadoop3.tgz\n",
    "!tar xf spark-3.5.0-bin-hadoop3.tgz\n",
    "!pip install -q findspark\n",
    "!pip install pyspark\n",
    "!pip install py4j\n",
    "import os\n",
    "import sys\n",
    "\n",
    "\n",
    "# Start a SparkSession\n",
    "import findspark\n",
    "findspark.init()\n",
    "\n",
    "\n",
    "%matplotlib inline"
   ]
  },
  {
   "cell_type": "code",
   "execution_count": 79,
   "id": "02bf9db2-12df-471b-ba04-b3845b120eed",
   "metadata": {
    "id": "02bf9db2-12df-471b-ba04-b3845b120eed",
    "tags": []
   },
   "outputs": [],
   "source": [
    "# Import packages\n",
    "from pyspark.sql import SparkSession\n",
    "\n",
    "# Create a SparkSession\n",
    "spark = SparkSession.builder.appName(\"SparkSQL\").config(\"spark.driver.memory\", \"2g\").getOrCreate()"
   ]
  },
  {
   "cell_type": "code",
   "execution_count": 80,
   "id": "puX5jE95fSKx",
   "metadata": {
    "colab": {
     "base_uri": "https://localhost:8080/"
    },
    "id": "puX5jE95fSKx",
    "outputId": "5a400e9e-c91a-4f82-99f2-c0c4f0db7bc5"
   },
   "outputs": [
    {
     "name": "stdout",
     "output_type": "stream",
     "text": [
      "24/02/08 23:01:48 WARN SparkContext: The path https://aws-project-4.s3.ca-central-1.amazonaws.com/heart_attack_prediction_dataset.csv has been added already. Overwriting of added paths is not supported in the current version.\n",
      "+----------+---+------+-----------+--------------+----------+--------+--------------+-------+-------+-------------------+-----------------------+---------+-----------------------+--------------+------------+-----------------------+------+------------------+-------------+-------------------------------+-------------------+---------+-------------+-------------------+-----------------+\n",
      "|Patient ID|Age|   Sex|Cholesterol|Blood Pressure|Heart Rate|Diabetes|Family History|Smoking|Obesity|Alcohol Consumption|Exercise Hours Per Week|     Diet|Previous Heart Problems|Medication Use|Stress Level|Sedentary Hours Per Day|Income|               BMI|Triglycerides|Physical Activity Days Per Week|Sleep Hours Per Day|  Country|    Continent|         Hemisphere|Heart Attack Risk|\n",
      "+----------+---+------+-----------+--------------+----------+--------+--------------+-------+-------+-------------------+-----------------------+---------+-----------------------+--------------+------------+-----------------------+------+------------------+-------------+-------------------------------+-------------------+---------+-------------+-------------------+-----------------+\n",
      "|   BMW7812| 67|  Male|        208|        158/88|        72|       0|             0|      1|      0|                  0|      4.168188835442079|  Average|                      0|             0|           9|     6.6150014529140595|261404|31.251232725295402|          286|                              0|                  6|Argentina|South America|Southern Hemisphere|                0|\n",
      "|   CZE1114| 21|  Male|        389|        165/93|        98|       1|             1|      1|      1|                  1|     1.8132416178634458|Unhealthy|                      1|             0|           1|      4.963458839757678|285768|  27.1949733519874|          235|                              1|                  7|   Canada|North America|Northern Hemisphere|                0|\n",
      "|   BNI9906| 21|Female|        324|        174/99|        72|       1|             0|      0|      0|                  0|     2.0783529861178884|  Healthy|                      1|             1|           9|      9.463425838029828|235282|28.176570683909873|          587|                              4|                  4|   France|       Europe|Northern Hemisphere|                0|\n",
      "|   JLN3497| 84|  Male|        383|       163/100|        73|       1|             1|      1|      0|                  1|       9.82812959348533|  Average|                      1|             0|           9|      7.648980824461007|125640|36.464704293082846|          378|                              3|                  4|   Canada|North America|Northern Hemisphere|                0|\n",
      "|   GFO8847| 66|  Male|        318|         91/88|        93|       1|             1|      1|      1|                  0|      5.804298820315434|Unhealthy|                      1|             0|           6|     1.5148209264291386|160555|21.809144180619754|          231|                              1|                  5| Thailand|         Asia|Northern Hemisphere|                0|\n",
      "+----------+---+------+-----------+--------------+----------+--------+--------------+-------+-------+-------------------+-----------------------+---------+-----------------------+--------------+------------+-----------------------+------+------------------+-------------+-------------------------------+-------------------+---------+-------------+-------------------+-----------------+\n",
      "only showing top 5 rows\n",
      "\n"
     ]
    }
   ],
   "source": [
    "# Read in data from S3 Bucket\n",
    "from pyspark import SparkFiles\n",
    "url = \"https://aws-project-4.s3.ca-central-1.amazonaws.com/heart_attack_prediction_dataset.csv\"\n",
    "spark.sparkContext.addFile(url)\n",
    "dataset = spark.read.csv(SparkFiles.get(\"heart_attack_prediction_dataset.csv\"), sep=\",\", header=True)\n",
    "dataset.show(5)"
   ]
  },
  {
   "cell_type": "code",
   "execution_count": 81,
   "id": "YH2bfc3Cfeai",
   "metadata": {
    "id": "YH2bfc3Cfeai"
   },
   "outputs": [],
   "source": [
    "# Register the DataFrame as a temporary view\n",
    "dataset.createOrReplaceTempView(\"heart_attack_prediction\")\n",
    "\n",
    "# Perform the transformation using Spark SQL\n",
    "dataset_transformed = spark.sql(\"\"\"\n",
    "    SELECT *,\n",
    "           CAST(SPLIT(`Blood Pressure`, '/')[0] AS INT) AS `Systolic Pressure`,\n",
    "           CAST(SPLIT(`Blood Pressure`, '/')[1] AS INT) AS `Diastolic Pressure`\n",
    "    FROM heart_attack_prediction\n",
    "\"\"\")\n"
   ]
  },
  {
   "cell_type": "code",
   "execution_count": 82,
   "id": "V9dG5Ao2ft31",
   "metadata": {
    "id": "V9dG5Ao2ft31"
   },
   "outputs": [],
   "source": [
    "# Drop the original \"Blood Pressure\" column\n",
    "dataset_transformed = dataset_transformed.drop(\"Blood Pressure\")"
   ]
  },
  {
   "cell_type": "code",
   "execution_count": 83,
   "id": "JBHWK9mkfqaZ",
   "metadata": {
    "colab": {
     "base_uri": "https://localhost:8080/"
    },
    "id": "JBHWK9mkfqaZ",
    "outputId": "b5d576e3-36c5-45e5-e03f-89b369118785"
   },
   "outputs": [
    {
     "name": "stdout",
     "output_type": "stream",
     "text": [
      "root\n",
      " |-- Patient ID: string (nullable = true)\n",
      " |-- Age: string (nullable = true)\n",
      " |-- Sex: string (nullable = true)\n",
      " |-- Cholesterol: string (nullable = true)\n",
      " |-- Heart Rate: string (nullable = true)\n",
      " |-- Diabetes: string (nullable = true)\n",
      " |-- Family History: string (nullable = true)\n",
      " |-- Smoking: string (nullable = true)\n",
      " |-- Obesity: string (nullable = true)\n",
      " |-- Alcohol Consumption: string (nullable = true)\n",
      " |-- Exercise Hours Per Week: string (nullable = true)\n",
      " |-- Diet: string (nullable = true)\n",
      " |-- Previous Heart Problems: string (nullable = true)\n",
      " |-- Medication Use: string (nullable = true)\n",
      " |-- Stress Level: string (nullable = true)\n",
      " |-- Sedentary Hours Per Day: string (nullable = true)\n",
      " |-- Income: string (nullable = true)\n",
      " |-- BMI: string (nullable = true)\n",
      " |-- Triglycerides: string (nullable = true)\n",
      " |-- Physical Activity Days Per Week: string (nullable = true)\n",
      " |-- Sleep Hours Per Day: string (nullable = true)\n",
      " |-- Country: string (nullable = true)\n",
      " |-- Continent: string (nullable = true)\n",
      " |-- Hemisphere: string (nullable = true)\n",
      " |-- Heart Attack Risk: string (nullable = true)\n",
      " |-- Systolic Pressure: integer (nullable = true)\n",
      " |-- Diastolic Pressure: integer (nullable = true)\n",
      "\n",
      "+----------+---+------+-----------+----------+--------+--------------+-------+-------+-------------------+-----------------------+---------+-----------------------+--------------+------------+-----------------------+------+------------------+-------------+-------------------------------+-------------------+---------+-------------+-------------------+-----------------+-----------------+------------------+\n",
      "|Patient ID|Age|   Sex|Cholesterol|Heart Rate|Diabetes|Family History|Smoking|Obesity|Alcohol Consumption|Exercise Hours Per Week|     Diet|Previous Heart Problems|Medication Use|Stress Level|Sedentary Hours Per Day|Income|               BMI|Triglycerides|Physical Activity Days Per Week|Sleep Hours Per Day|  Country|    Continent|         Hemisphere|Heart Attack Risk|Systolic Pressure|Diastolic Pressure|\n",
      "+----------+---+------+-----------+----------+--------+--------------+-------+-------+-------------------+-----------------------+---------+-----------------------+--------------+------------+-----------------------+------+------------------+-------------+-------------------------------+-------------------+---------+-------------+-------------------+-----------------+-----------------+------------------+\n",
      "|   BMW7812| 67|  Male|        208|        72|       0|             0|      1|      0|                  0|      4.168188835442079|  Average|                      0|             0|           9|     6.6150014529140595|261404|31.251232725295402|          286|                              0|                  6|Argentina|South America|Southern Hemisphere|                0|              158|                88|\n",
      "|   CZE1114| 21|  Male|        389|        98|       1|             1|      1|      1|                  1|     1.8132416178634458|Unhealthy|                      1|             0|           1|      4.963458839757678|285768|  27.1949733519874|          235|                              1|                  7|   Canada|North America|Northern Hemisphere|                0|              165|                93|\n",
      "|   BNI9906| 21|Female|        324|        72|       1|             0|      0|      0|                  0|     2.0783529861178884|  Healthy|                      1|             1|           9|      9.463425838029828|235282|28.176570683909873|          587|                              4|                  4|   France|       Europe|Northern Hemisphere|                0|              174|                99|\n",
      "|   JLN3497| 84|  Male|        383|        73|       1|             1|      1|      0|                  1|       9.82812959348533|  Average|                      1|             0|           9|      7.648980824461007|125640|36.464704293082846|          378|                              3|                  4|   Canada|North America|Northern Hemisphere|                0|              163|               100|\n",
      "|   GFO8847| 66|  Male|        318|        93|       1|             1|      1|      1|                  0|      5.804298820315434|Unhealthy|                      1|             0|           6|     1.5148209264291386|160555|21.809144180619754|          231|                              1|                  5| Thailand|         Asia|Northern Hemisphere|                0|               91|                88|\n",
      "+----------+---+------+-----------+----------+--------+--------------+-------+-------+-------------------+-----------------------+---------+-----------------------+--------------+------------+-----------------------+------+------------------+-------------+-------------------------------+-------------------+---------+-------------+-------------------+-----------------+-----------------+------------------+\n",
      "only showing top 5 rows\n",
      "\n"
     ]
    }
   ],
   "source": [
    "# Show the updated DataFrame schema\n",
    "dataset_transformed.printSchema()\n",
    "\n",
    "# Display the updated DataFrame\n",
    "dataset_transformed.show(5)"
   ]
  },
  {
   "cell_type": "code",
   "execution_count": 84,
   "id": "AFrDVTnPgK_F",
   "metadata": {
    "colab": {
     "base_uri": "https://localhost:8080/"
    },
    "id": "AFrDVTnPgK_F",
    "outputId": "33b7adab-4fb0-4c6b-d332-78ae3d5d73b2"
   },
   "outputs": [
    {
     "name": "stdout",
     "output_type": "stream",
     "text": [
      "+----------+---+---+-----------+----------+--------+--------------+-------+-------+-------------------+-----------------------+---------+-----------------------+--------------+------------+-----------------------+------+------------------+-------------+-------------------------------+-------------------+---------+-------------+----------+-----------------+-----------------+------------------+\n",
      "|Patient ID|Age|Sex|Cholesterol|Heart Rate|Diabetes|Family History|Smoking|Obesity|Alcohol Consumption|Exercise Hours Per Week|     Diet|Previous Heart Problems|Medication Use|Stress Level|Sedentary Hours Per Day|Income|               BMI|Triglycerides|Physical Activity Days Per Week|Sleep Hours Per Day|  Country|    Continent|Hemisphere|Heart Attack Risk|Systolic Pressure|Diastolic Pressure|\n",
      "+----------+---+---+-----------+----------+--------+--------------+-------+-------+-------------------+-----------------------+---------+-----------------------+--------------+------------+-----------------------+------+------------------+-------------+-------------------------------+-------------------+---------+-------------+----------+-----------------+-----------------+------------------+\n",
      "|   BMW7812| 67|  1|        208|        72|       0|             0|      1|      0|                  0|      4.168188835442079|  Average|                      0|             0|           9|     6.6150014529140595|261404|31.251232725295402|          286|                              0|                  6|Argentina|South America|         1|                0|              158|                88|\n",
      "|   CZE1114| 21|  1|        389|        98|       1|             1|      1|      1|                  1|     1.8132416178634458|Unhealthy|                      1|             0|           1|      4.963458839757678|285768|  27.1949733519874|          235|                              1|                  7|   Canada|North America|         0|                0|              165|                93|\n",
      "|   BNI9906| 21|  0|        324|        72|       1|             0|      0|      0|                  0|     2.0783529861178884|  Healthy|                      1|             1|           9|      9.463425838029828|235282|28.176570683909873|          587|                              4|                  4|   France|       Europe|         0|                0|              174|                99|\n",
      "|   JLN3497| 84|  1|        383|        73|       1|             1|      1|      0|                  1|       9.82812959348533|  Average|                      1|             0|           9|      7.648980824461007|125640|36.464704293082846|          378|                              3|                  4|   Canada|North America|         0|                0|              163|               100|\n",
      "|   GFO8847| 66|  1|        318|        93|       1|             1|      1|      1|                  0|      5.804298820315434|Unhealthy|                      1|             0|           6|     1.5148209264291386|160555|21.809144180619754|          231|                              1|                  5| Thailand|         Asia|         0|                0|               91|                88|\n",
      "+----------+---+---+-----------+----------+--------+--------------+-------+-------+-------------------+-----------------------+---------+-----------------------+--------------+------------+-----------------------+------+------------------+-------------+-------------------------------+-------------------+---------+-------------+----------+-----------------+-----------------+------------------+\n",
      "only showing top 5 rows\n",
      "\n"
     ]
    }
   ],
   "source": [
    "from pyspark.sql.functions import when\n",
    "\n",
    "# Update 'Sex' column\n",
    "dataset_transformed = dataset_transformed.withColumn(\"Sex\", when(dataset_transformed[\"Sex\"] == \"Female\", 0).when(dataset_transformed[\"Sex\"] == \"Male\", 1).otherwise(dataset_transformed[\"Sex\"]))\n",
    "\n",
    "# Update 'Hemisphere' column\n",
    "dataset_transformed = dataset_transformed.withColumn(\"Hemisphere\", when(dataset_transformed[\"Hemisphere\"] == \"Northern Hemisphere\", 0).when(dataset_transformed[\"Hemisphere\"] == \"Southern Hemisphere\", 1).otherwise(dataset_transformed[\"Hemisphere\"]))\n",
    "\n",
    "# Show the updated DataFrame\n",
    "dataset_transformed.show(5)\n"
   ]
  },
  {
   "cell_type": "code",
   "execution_count": 85,
   "id": "fRMiJLmLsZIz",
   "metadata": {
    "colab": {
     "base_uri": "https://localhost:8080/"
    },
    "id": "fRMiJLmLsZIz",
    "outputId": "c21aff03-54af-49a0-a296-291d6c57dc68"
   },
   "outputs": [
    {
     "name": "stderr",
     "output_type": "stream",
     "text": [
      "[Stage 82:>                                                         (0 + 1) / 1]\r"
     ]
    },
    {
     "name": "stdout",
     "output_type": "stream",
     "text": [
      "+-------+----------+------------------+------------------+-----------------+-----------------+------------------+-------------------+------------------+------------------+-------------------+-----------------------+---------+-----------------------+-------------------+------------------+-----------------------+------------------+------------------+------------------+-------------------------------+-------------------+---------+-------------+-------------------+-------------------+------------------+------------------+\n",
      "|summary|Patient ID|               Age|               Sex|      Cholesterol|       Heart Rate|          Diabetes|     Family History|           Smoking|           Obesity|Alcohol Consumption|Exercise Hours Per Week|     Diet|Previous Heart Problems|     Medication Use|      Stress Level|Sedentary Hours Per Day|            Income|               BMI|     Triglycerides|Physical Activity Days Per Week|Sleep Hours Per Day|  Country|    Continent|         Hemisphere|  Heart Attack Risk| Systolic Pressure|Diastolic Pressure|\n",
      "+-------+----------+------------------+------------------+-----------------+-----------------+------------------+-------------------+------------------+------------------+-------------------+-----------------------+---------+-----------------------+-------------------+------------------+-----------------------+------------------+------------------+------------------+-------------------------------+-------------------+---------+-------------+-------------------+-------------------+------------------+------------------+\n",
      "|  count|      8763|              8763|              8763|             8763|             8763|              8763|               8763|              8763|              8763|               8763|                   8763|     8763|                   8763|               8763|              8763|                   8763|              8763|              8763|              8763|                           8763|               8763|     8763|         8763|               8763|               8763|              8763|              8763|\n",
      "|   mean|      null| 53.70797672030127|0.6973639164669634|259.8772110007988|75.02168207234965|0.6522880292137396| 0.4929818555289284|0.8968389820837612|0.5014264521282665| 0.5980828483396097|     10.014283655214825|     null|     0.4958347597854616|0.49834531553121075| 5.469702156795618|      5.993690145051099|158263.18190117538|28.891445877259645|417.67705123816046|               3.48967248659135| 7.0235079310738335|     null|         null|0.35410247632089464| 0.3582106584503024|135.07565902088325|  85.1561109209175|\n",
      "| stddev|      null|21.249508802215995| 0.459425261774071|80.86327610477066|20.55094793190944|0.4762711849494274|0.49997927189573166|0.3041864253995658|0.5000264965985902|0.49031335817956767|      5.783745486854249|     null|     0.5000111809674503| 0.5000257933400913|2.8596218865860834|     3.4663591739806225| 80575.19080559714| 6.319181335543785|223.74813679935522|             2.2826873241360355|  1.988472754350827|     null|         null| 0.4782677236850298|0.47950184613131025|26.349976379510746|14.676564882556976|\n",
      "|    min|   AAA9246|                18|                 0|              120|              100|                 0|                  0|                 0|                 0|                  0|   0.002442348318978...|  Average|                      0|                  0|                 1|   0.001263205778245...|            100024|18.002336577801902|               100|                              0|                 10|Argentina|       Africa|                  0|                  0|                90|                60|\n",
      "|    max|   ZZY4724|                90|                 1|              400|               99|                 1|                  1|                 1|                 1|                  1|      9.999734512941021|Unhealthy|                      1|                  1|                 9|      9.999978022343594|             99944| 39.99721081557256|                99|                              7|                  9|  Vietnam|South America|                  1|                  1|               180|               110|\n",
      "+-------+----------+------------------+------------------+-----------------+-----------------+------------------+-------------------+------------------+------------------+-------------------+-----------------------+---------+-----------------------+-------------------+------------------+-----------------------+------------------+------------------+------------------+-------------------------------+-------------------+---------+-------------+-------------------+-------------------+------------------+------------------+\n",
      "\n"
     ]
    },
    {
     "name": "stderr",
     "output_type": "stream",
     "text": [
      "                                                                                \r"
     ]
    }
   ],
   "source": [
    "dataset_transformed.describe().show()"
   ]
  },
  {
   "cell_type": "code",
   "execution_count": 86,
   "id": "rehyZmq_t9sS",
   "metadata": {
    "id": "rehyZmq_t9sS"
   },
   "outputs": [],
   "source": [
    "import requests\n",
    "url = \"https://countriesnow.space/api/v0.1/countries/capital\"\n",
    "payload = {}\n",
    "headers = {}\n",
    "\n",
    "response = requests.request(\"GET\", url, headers=headers, data=payload)"
   ]
  },
  {
   "cell_type": "code",
   "execution_count": 87,
   "id": "QQT-Oq89t9u6",
   "metadata": {
    "colab": {
     "base_uri": "https://localhost:8080/"
    },
    "id": "QQT-Oq89t9u6",
    "outputId": "45784aab-e846-43dd-bbe7-0a1c59dbcb9f"
   },
   "outputs": [
    {
     "name": "stdout",
     "output_type": "stream",
     "text": [
      "CSV file saved at: country_capitals.csv\n"
     ]
    }
   ],
   "source": [
    "import csv\n",
    "# Check if the API request was successful (status code 200)\n",
    "if response.status_code == 200:\n",
    "    # Parse the JSON response\n",
    "    data = response.json()\n",
    "\n",
    "    # Extract relevant information (country name and capital) from the response\n",
    "    country_data = [(country[\"name\"], country[\"capital\"]) for country in data.get(\"data\", [])]\n",
    "\n",
    "    # Define CSV file path\n",
    "    csv_file_path = \"country_capitals.csv\"\n",
    "\n",
    "    # Write the extracted data to a CSV file\n",
    "    with open(csv_file_path, mode=\"w\", newline=\"\", encoding=\"utf-8\") as csv_file:\n",
    "        fieldnames = [\"Country\", \"Capital\"]\n",
    "        writer = csv.DictWriter(csv_file, fieldnames=fieldnames)\n",
    "\n",
    "        # Write header\n",
    "        writer.writeheader()\n",
    "\n",
    "        # Write data rows\n",
    "        for country, capital in country_data:\n",
    "            writer.writerow({\"Country\": country, \"Capital\": capital})\n",
    "\n",
    "    print(f\"CSV file saved at: {csv_file_path}\")\n",
    "\n",
    "else:\n",
    "    # Print an error message if the API request fails\n",
    "    print(f\"Error: {response.status_code} - {response.text}\")"
   ]
  },
  {
   "cell_type": "code",
   "execution_count": 88,
   "id": "fCdabKwbt93X",
   "metadata": {
    "colab": {
     "base_uri": "https://localhost:8080/"
    },
    "id": "fCdabKwbt93X",
    "outputId": "a7413e32-01e4-426c-d1f6-ca58792dc69f"
   },
   "outputs": [
    {
     "name": "stdout",
     "output_type": "stream",
     "text": [
      "+-------------------+----------------+\n",
      "|            Country|         Capital|\n",
      "+-------------------+----------------+\n",
      "|        Afghanistan|           Kabul|\n",
      "|      Aland Islands|       Mariehamn|\n",
      "|            Albania|          Tirana|\n",
      "|            Algeria|         Algiers|\n",
      "|     American Samoa|       Pago Pago|\n",
      "|            Andorra|Andorra la Vella|\n",
      "|             Angola|          Luanda|\n",
      "|           Anguilla|      The Valley|\n",
      "|         Antarctica|            null|\n",
      "|Antigua and Barbuda|      St. John's|\n",
      "|          Argentina|    Buenos Aires|\n",
      "|            Armenia|         Yerevan|\n",
      "|              Aruba|      Oranjestad|\n",
      "|          Australia|        Canberra|\n",
      "|            Austria|          Vienna|\n",
      "|         Azerbaijan|            Baku|\n",
      "|            Bahamas|          Nassau|\n",
      "|            Bahrain|          Manama|\n",
      "|         Bangladesh|           Dhaka|\n",
      "|           Barbados|      Bridgetown|\n",
      "+-------------------+----------------+\n",
      "only showing top 20 rows\n",
      "\n"
     ]
    }
   ],
   "source": [
    "# Load the CSV file into a Spark DataFrame\n",
    "mapping_df = spark.read.csv(\"country_capitals.csv\", header=True, inferSchema=True)\n",
    "\n",
    "# Show the DataFrame\n",
    "mapping_df.show()\n"
   ]
  },
  {
   "cell_type": "code",
   "execution_count": 89,
   "id": "bA77gxxyt96I",
   "metadata": {
    "colab": {
     "base_uri": "https://localhost:8080/"
    },
    "id": "bA77gxxyt96I",
    "outputId": "3ff2f5af-9c77-4fc3-88f1-0e9eb8683f55"
   },
   "outputs": [
    {
     "name": "stdout",
     "output_type": "stream",
     "text": [
      "+---------+------------+----------+---+---+-----------+----------+--------+--------------+-------+-------+-------------------+-----------------------+---------+-----------------------+--------------+------------+-----------------------+------+------------------+-------------+-------------------------------+-------------------+-------------+----------+-----------------+-----------------+------------------+\n",
      "|  Country|     Capital|Patient ID|Age|Sex|Cholesterol|Heart Rate|Diabetes|Family History|Smoking|Obesity|Alcohol Consumption|Exercise Hours Per Week|     Diet|Previous Heart Problems|Medication Use|Stress Level|Sedentary Hours Per Day|Income|               BMI|Triglycerides|Physical Activity Days Per Week|Sleep Hours Per Day|    Continent|Hemisphere|Heart Attack Risk|Systolic Pressure|Diastolic Pressure|\n",
      "+---------+------------+----------+---+---+-----------+----------+--------+--------------+-------+-------+-------------------+-----------------------+---------+-----------------------+--------------+------------+-----------------------+------+------------------+-------------+-------------------------------+-------------------+-------------+----------+-----------------+-----------------+------------------+\n",
      "|Argentina|Buenos Aires|   BMW7812| 67|  1|        208|        72|       0|             0|      1|      0|                  0|      4.168188835442079|  Average|                      0|             0|           9|     6.6150014529140595|261404|31.251232725295402|          286|                              0|                  6|South America|         1|                0|              158|                88|\n",
      "|   Canada|      Ottawa|   CZE1114| 21|  1|        389|        98|       1|             1|      1|      1|                  1|     1.8132416178634458|Unhealthy|                      1|             0|           1|      4.963458839757678|285768|  27.1949733519874|          235|                              1|                  7|North America|         0|                0|              165|                93|\n",
      "|   France|       Paris|   BNI9906| 21|  0|        324|        72|       1|             0|      0|      0|                  0|     2.0783529861178884|  Healthy|                      1|             1|           9|      9.463425838029828|235282|28.176570683909873|          587|                              4|                  4|       Europe|         0|                0|              174|                99|\n",
      "|   Canada|      Ottawa|   JLN3497| 84|  1|        383|        73|       1|             1|      1|      0|                  1|       9.82812959348533|  Average|                      1|             0|           9|      7.648980824461007|125640|36.464704293082846|          378|                              3|                  4|North America|         0|                0|              163|               100|\n",
      "| Thailand|     Bangkok|   GFO8847| 66|  1|        318|        93|       1|             1|      1|      1|                  0|      5.804298820315434|Unhealthy|                      1|             0|           6|     1.5148209264291386|160555|21.809144180619754|          231|                              1|                  5|         Asia|         0|                0|               91|                88|\n",
      "+---------+------------+----------+---+---+-----------+----------+--------+--------------+-------+-------+-------------------+-----------------------+---------+-----------------------+--------------+------------+-----------------------+------+------------------+-------------+-------------------------------+-------------------+-------------+----------+-----------------+-----------------+------------------+\n",
      "only showing top 5 rows\n",
      "\n"
     ]
    }
   ],
   "source": [
    "# Perform the join operation on the 'Country' column\n",
    "merged_df = mapping_df.join(dataset_transformed, on='Country')\n",
    "\n",
    "# Show the resulting DataFrame\n",
    "merged_df.show(5)"
   ]
  },
  {
   "cell_type": "code",
   "execution_count": 90,
   "id": "-0FLXU50w6sG",
   "metadata": {
    "colab": {
     "base_uri": "https://localhost:8080/"
    },
    "id": "-0FLXU50w6sG",
    "outputId": "f1800e77-24d7-414a-bf2d-f9cda3cde5e6"
   },
   "outputs": [
    {
     "name": "stdout",
     "output_type": "stream",
     "text": [
      "Data has been written to countries_data.csv\n"
     ]
    }
   ],
   "source": [
    "import logging\n",
    "\n",
    "# Configure logging\n",
    "logging.basicConfig(level=logging.WARNING)\n",
    "\n",
    "url = \"https://countriesnow.space/api/v0.1/countries/positions\"\n",
    "headers = {}\n",
    "\n",
    "response = requests.get(url, headers=headers)\n",
    "\n",
    "if response.status_code == 200:\n",
    "    data = response.json().get('data', [])\n",
    "\n",
    "    # Specify the CSV file path\n",
    "    csv_file_path = 'countries_data.csv'\n",
    "\n",
    "    # Write the data to a CSV file\n",
    "    with open(csv_file_path, 'w', newline='', encoding='utf-8') as csv_file:\n",
    "        fieldnames = ['name', 'lat', 'long']\n",
    "        writer = csv.DictWriter(csv_file, fieldnames=fieldnames)\n",
    "\n",
    "        # Write the header\n",
    "        writer.writeheader()\n",
    "\n",
    "        # Write the data rows\n",
    "        for entry in data:\n",
    "            country = entry.get('name')\n",
    "            latitude = entry.get('lat')\n",
    "            longitude = entry.get('long')\n",
    "\n",
    "            # Check if all required keys are present\n",
    "            if country is not None and latitude is not None and longitude is not None:\n",
    "                writer.writerow({'name': country, 'lat': latitude, 'long': longitude})\n",
    "            else:\n",
    "                logging.warning(f'Skipping entry without complete data: {entry}')\n",
    "\n",
    "    print(f'Data has been written to {csv_file_path}')\n",
    "else:\n",
    "    print(f'Error: {response.status_code} - {response.text}')"
   ]
  },
  {
   "cell_type": "code",
   "execution_count": 91,
   "id": "viiAbcDWxXAY",
   "metadata": {
    "colab": {
     "base_uri": "https://localhost:8080/"
    },
    "id": "viiAbcDWxXAY",
    "outputId": "0d31ecf0-1b24-4b67-b6f0-3cd64d86d407"
   },
   "outputs": [
    {
     "name": "stdout",
     "output_type": "stream",
     "text": [
      "+-------------------+--------+--------+\n",
      "|            Country|     lat|    long|\n",
      "+-------------------+--------+--------+\n",
      "|        Afghanistan|    33.0|    65.0|\n",
      "|            Albania|    41.0|    20.0|\n",
      "|            Algeria|    28.0|     3.0|\n",
      "|      AmericanSamoa|-14.3333|  -170.0|\n",
      "|            Andorra|    42.5|     1.6|\n",
      "|             Angola|   -12.5|    18.5|\n",
      "|           Anguilla|   18.25|-63.1667|\n",
      "|         Antarctica|   -90.0|     0.0|\n",
      "|Antigua and Barbuda|   17.05|   -61.8|\n",
      "|          Argentina|   -34.0|   -64.0|\n",
      "|            Armenia|    40.0|    45.0|\n",
      "|              Aruba|    12.5|-69.9667|\n",
      "|          Australia|   -27.0|   133.0|\n",
      "|            Austria| 47.3333| 13.3333|\n",
      "|         Azerbaijan|    40.5|    47.5|\n",
      "|            Bahamas|   24.25|   -76.0|\n",
      "|            Bahrain|    26.0|   50.55|\n",
      "|         Bangladesh|    24.0|    90.0|\n",
      "|           Barbados| 13.1667|-59.5333|\n",
      "|            Belarus|    53.0|    28.0|\n",
      "+-------------------+--------+--------+\n",
      "only showing top 20 rows\n",
      "\n"
     ]
    }
   ],
   "source": [
    "# Read the CSV file into a Spark DataFrame\n",
    "coordinates_df = spark.read.csv(\"countries_data.csv\", header=True, inferSchema=True)\n",
    "\n",
    "# Rename the 'name' column to 'Country'\n",
    "coordinates_df = coordinates_df.withColumnRenamed(\"name\", \"Country\")\n",
    "\n",
    "# Show the DataFrame\n",
    "coordinates_df.show()\n"
   ]
  },
  {
   "cell_type": "code",
   "execution_count": 92,
   "id": "glqLCMBTxhdW",
   "metadata": {
    "colab": {
     "base_uri": "https://localhost:8080/"
    },
    "id": "glqLCMBTxhdW",
    "outputId": "40e64af8-05aa-4985-862c-bd6d412acaf2"
   },
   "outputs": [
    {
     "name": "stdout",
     "output_type": "stream",
     "text": [
      "+---------+------------+----------+---+---+-----------+----------+--------+--------------+-------+-------+-------------------+-----------------------+---------+-----------------------+--------------+------------+-----------------------+------+------------------+-------------+-------------------------------+-------------------+-------------+----------+-----------------+-----------------+------------------+-----+-----+\n",
      "|  Country|     Capital|Patient ID|Age|Sex|Cholesterol|Heart Rate|Diabetes|Family History|Smoking|Obesity|Alcohol Consumption|Exercise Hours Per Week|     Diet|Previous Heart Problems|Medication Use|Stress Level|Sedentary Hours Per Day|Income|               BMI|Triglycerides|Physical Activity Days Per Week|Sleep Hours Per Day|    Continent|Hemisphere|Heart Attack Risk|Systolic Pressure|Diastolic Pressure|  lat| long|\n",
      "+---------+------------+----------+---+---+-----------+----------+--------+--------------+-------+-------+-------------------+-----------------------+---------+-----------------------+--------------+------------+-----------------------+------+------------------+-------------+-------------------------------+-------------------+-------------+----------+-----------------+-----------------+------------------+-----+-----+\n",
      "|Argentina|Buenos Aires|   BMW7812| 67|  1|        208|        72|       0|             0|      1|      0|                  0|      4.168188835442079|  Average|                      0|             0|           9|     6.6150014529140595|261404|31.251232725295402|          286|                              0|                  6|South America|         1|                0|              158|                88|-34.0|-64.0|\n",
      "|   Canada|      Ottawa|   CZE1114| 21|  1|        389|        98|       1|             1|      1|      1|                  1|     1.8132416178634458|Unhealthy|                      1|             0|           1|      4.963458839757678|285768|  27.1949733519874|          235|                              1|                  7|North America|         0|                0|              165|                93| 60.0|-95.0|\n",
      "|   France|       Paris|   BNI9906| 21|  0|        324|        72|       1|             0|      0|      0|                  0|     2.0783529861178884|  Healthy|                      1|             1|           9|      9.463425838029828|235282|28.176570683909873|          587|                              4|                  4|       Europe|         0|                0|              174|                99| 46.0|  2.0|\n",
      "|   Canada|      Ottawa|   JLN3497| 84|  1|        383|        73|       1|             1|      1|      0|                  1|       9.82812959348533|  Average|                      1|             0|           9|      7.648980824461007|125640|36.464704293082846|          378|                              3|                  4|North America|         0|                0|              163|               100| 60.0|-95.0|\n",
      "| Thailand|     Bangkok|   GFO8847| 66|  1|        318|        93|       1|             1|      1|      1|                  0|      5.804298820315434|Unhealthy|                      1|             0|           6|     1.5148209264291386|160555|21.809144180619754|          231|                              1|                  5|         Asia|         0|                0|               91|                88| 15.0|100.0|\n",
      "+---------+------------+----------+---+---+-----------+----------+--------+--------------+-------+-------+-------------------+-----------------------+---------+-----------------------+--------------+------------+-----------------------+------+------------------+-------------+-------------------------------+-------------------+-------------+----------+-----------------+-----------------+------------------+-----+-----+\n",
      "only showing top 5 rows\n",
      "\n"
     ]
    }
   ],
   "source": [
    "# Perform the join operation using Spark SQL and select desired columns\n",
    "coordinates_df.createOrReplaceTempView(\"coordinates_df\")\n",
    "merged_df.createOrReplaceTempView(\"merged_df\")\n",
    "joined_df = spark.sql(\"\"\"\n",
    "    SELECT merged_df.*, coordinates_df.lat, coordinates_df.long\n",
    "    FROM merged_df\n",
    "    JOIN coordinates_df\n",
    "    ON merged_df.Country = coordinates_df.Country\n",
    "\"\"\")\n",
    "\n",
    "# Show the resulting DataFrame\n",
    "joined_df.show(5)\n"
   ]
  },
  {
   "cell_type": "code",
   "execution_count": 93,
   "id": "bjOYem7lRDA7",
   "metadata": {
    "colab": {
     "base_uri": "https://localhost:8080/"
    },
    "id": "bjOYem7lRDA7",
    "outputId": "5e8a248d-0bf4-4545-b13e-1ca0276a67b9"
   },
   "outputs": [
    {
     "name": "stderr",
     "output_type": "stream",
     "text": [
      "[Stage 98:>                                                         (0 + 1) / 1]\r"
     ]
    },
    {
     "name": "stdout",
     "output_type": "stream",
     "text": [
      "+-------+---------+----------+----------+------------------+------------------+-----------------+-----------------+------------------+-------------------+------------------+------------------+-------------------+-----------------------+---------+-----------------------+-------------------+------------------+-----------------------+------------------+------------------+------------------+-------------------------------+-------------------+-------------+-------------------+-------------------+------------------+------------------+-----------------+------------------+\n",
      "|summary|  Country|   Capital|Patient ID|               Age|               Sex|      Cholesterol|       Heart Rate|          Diabetes|     Family History|           Smoking|           Obesity|Alcohol Consumption|Exercise Hours Per Week|     Diet|Previous Heart Problems|     Medication Use|      Stress Level|Sedentary Hours Per Day|            Income|               BMI|     Triglycerides|Physical Activity Days Per Week|Sleep Hours Per Day|    Continent|         Hemisphere|  Heart Attack Risk| Systolic Pressure|Diastolic Pressure|              lat|              long|\n",
      "+-------+---------+----------+----------+------------------+------------------+-----------------+-----------------+------------------+-------------------+------------------+------------------+-------------------+-----------------------+---------+-----------------------+-------------------+------------------+-----------------------+------------------+------------------+------------------+-------------------------------+-------------------+-------------+-------------------+-------------------+------------------+------------------+-----------------+------------------+\n",
      "|  count|     8763|      8763|      8763|              8763|              8763|             8763|             8763|              8763|               8763|              8763|              8763|               8763|                   8763|     8763|                   8763|               8763|              8763|                   8763|              8763|              8763|              8763|                           8763|               8763|         8763|               8763|               8763|              8763|              8763|             8763|              8763|\n",
      "|   mean|     null|      null|      null| 53.70797672030127|0.6973639164669634|259.8772110007988|75.02168207234965|0.6522880292137396| 0.4929818555289284|0.8968389820837612|0.5014264521282665| 0.5980828483396097|     10.014283655214825|     null|     0.4958347597854616|0.49834531553121075| 5.469702156795618|      5.993690145051099|158263.18190117538|28.891445877259645|417.67705123816046|               3.48967248659135| 7.0235079310738335|         null|0.35410247632089464| 0.3582106584503024|135.07565902088325|  85.1561109209175|18.06027071779064|30.303166986191872|\n",
      "| stddev|     null|      null|      null|21.249508802215995| 0.459425261774071|80.86327610477066|20.55094793190944|0.4762711849494274|0.49997927189573166|0.3041864253995658|0.5000264965985902|0.49031335817956767|      5.783745486854249|     null|     0.5000111809674503| 0.5000257933400913|2.8596218865860834|     3.4663591739806225| 80575.19080559714| 6.319181335543785|223.74813679935522|             2.2826873241360355|  1.988472754350827|         null| 0.4782677236850298|0.47950184613131025|26.349976379510746|14.676564882556976|30.98366373406246| 81.45307038495136|\n",
      "|    min|Argentina|     Abuja|   AAA9246|                18|                 0|              120|              100|                 0|                  0|                 0|                 0|                  0|   0.002442348318978...|  Average|                      0|                  0|                 1|   0.001263205778245...|            100024|18.002336577801902|               100|                              0|                 10|       Africa|                  0|                  0|                90|                60|            -41.0|             -97.0|\n",
      "|    max|  Vietnam|Wellington|   ZZY4724|                90|                 1|              400|               99|                 1|                  1|                 1|                 1|                  1|      9.999734512941021|Unhealthy|                      1|                  1|                 9|      9.999978022343594|             99944| 39.99721081557256|                99|                              7|                  9|South America|                  1|                  1|               180|               110|             60.0|             174.0|\n",
      "+-------+---------+----------+----------+------------------+------------------+-----------------+-----------------+------------------+-------------------+------------------+------------------+-------------------+-----------------------+---------+-----------------------+-------------------+------------------+-----------------------+------------------+------------------+------------------+-------------------------------+-------------------+-------------+-------------------+-------------------+------------------+------------------+-----------------+------------------+\n",
      "\n"
     ]
    },
    {
     "name": "stderr",
     "output_type": "stream",
     "text": [
      "                                                                                \r"
     ]
    }
   ],
   "source": [
    "joined_df.describe().show()"
   ]
  },
  {
   "cell_type": "code",
   "execution_count": 94,
   "id": "m-T_oGZ1TL-9",
   "metadata": {
    "colab": {
     "base_uri": "https://localhost:8080/",
     "height": 360
    },
    "id": "m-T_oGZ1TL-9",
    "outputId": "19738706-1424-4771-c5fe-d367ed39e905"
   },
   "outputs": [
    {
     "data": {
      "text/html": [
       "<div>\n",
       "<style scoped>\n",
       "    .dataframe tbody tr th:only-of-type {\n",
       "        vertical-align: middle;\n",
       "    }\n",
       "\n",
       "    .dataframe tbody tr th {\n",
       "        vertical-align: top;\n",
       "    }\n",
       "\n",
       "    .dataframe thead th {\n",
       "        text-align: right;\n",
       "    }\n",
       "</style>\n",
       "<table border=\"1\" class=\"dataframe\">\n",
       "  <thead>\n",
       "    <tr style=\"text-align: right;\">\n",
       "      <th></th>\n",
       "      <th>Country</th>\n",
       "      <th>Capital</th>\n",
       "      <th>Patient ID</th>\n",
       "      <th>Age</th>\n",
       "      <th>Sex</th>\n",
       "      <th>Cholesterol</th>\n",
       "      <th>Heart Rate</th>\n",
       "      <th>Diabetes</th>\n",
       "      <th>Family History</th>\n",
       "      <th>Smoking</th>\n",
       "      <th>...</th>\n",
       "      <th>Triglycerides</th>\n",
       "      <th>Physical Activity Days Per Week</th>\n",
       "      <th>Sleep Hours Per Day</th>\n",
       "      <th>Continent</th>\n",
       "      <th>Hemisphere</th>\n",
       "      <th>Heart Attack Risk</th>\n",
       "      <th>Systolic Pressure</th>\n",
       "      <th>Diastolic Pressure</th>\n",
       "      <th>lat</th>\n",
       "      <th>long</th>\n",
       "    </tr>\n",
       "  </thead>\n",
       "  <tbody>\n",
       "    <tr>\n",
       "      <th>0</th>\n",
       "      <td>Argentina</td>\n",
       "      <td>Buenos Aires</td>\n",
       "      <td>BMW7812</td>\n",
       "      <td>67</td>\n",
       "      <td>1</td>\n",
       "      <td>208</td>\n",
       "      <td>72</td>\n",
       "      <td>0</td>\n",
       "      <td>0</td>\n",
       "      <td>1</td>\n",
       "      <td>...</td>\n",
       "      <td>286</td>\n",
       "      <td>0</td>\n",
       "      <td>6</td>\n",
       "      <td>South America</td>\n",
       "      <td>1</td>\n",
       "      <td>0</td>\n",
       "      <td>158</td>\n",
       "      <td>88</td>\n",
       "      <td>-34.0</td>\n",
       "      <td>-64.0</td>\n",
       "    </tr>\n",
       "    <tr>\n",
       "      <th>1</th>\n",
       "      <td>Canada</td>\n",
       "      <td>Ottawa</td>\n",
       "      <td>CZE1114</td>\n",
       "      <td>21</td>\n",
       "      <td>1</td>\n",
       "      <td>389</td>\n",
       "      <td>98</td>\n",
       "      <td>1</td>\n",
       "      <td>1</td>\n",
       "      <td>1</td>\n",
       "      <td>...</td>\n",
       "      <td>235</td>\n",
       "      <td>1</td>\n",
       "      <td>7</td>\n",
       "      <td>North America</td>\n",
       "      <td>0</td>\n",
       "      <td>0</td>\n",
       "      <td>165</td>\n",
       "      <td>93</td>\n",
       "      <td>60.0</td>\n",
       "      <td>-95.0</td>\n",
       "    </tr>\n",
       "    <tr>\n",
       "      <th>2</th>\n",
       "      <td>France</td>\n",
       "      <td>Paris</td>\n",
       "      <td>BNI9906</td>\n",
       "      <td>21</td>\n",
       "      <td>0</td>\n",
       "      <td>324</td>\n",
       "      <td>72</td>\n",
       "      <td>1</td>\n",
       "      <td>0</td>\n",
       "      <td>0</td>\n",
       "      <td>...</td>\n",
       "      <td>587</td>\n",
       "      <td>4</td>\n",
       "      <td>4</td>\n",
       "      <td>Europe</td>\n",
       "      <td>0</td>\n",
       "      <td>0</td>\n",
       "      <td>174</td>\n",
       "      <td>99</td>\n",
       "      <td>46.0</td>\n",
       "      <td>2.0</td>\n",
       "    </tr>\n",
       "    <tr>\n",
       "      <th>3</th>\n",
       "      <td>Canada</td>\n",
       "      <td>Ottawa</td>\n",
       "      <td>JLN3497</td>\n",
       "      <td>84</td>\n",
       "      <td>1</td>\n",
       "      <td>383</td>\n",
       "      <td>73</td>\n",
       "      <td>1</td>\n",
       "      <td>1</td>\n",
       "      <td>1</td>\n",
       "      <td>...</td>\n",
       "      <td>378</td>\n",
       "      <td>3</td>\n",
       "      <td>4</td>\n",
       "      <td>North America</td>\n",
       "      <td>0</td>\n",
       "      <td>0</td>\n",
       "      <td>163</td>\n",
       "      <td>100</td>\n",
       "      <td>60.0</td>\n",
       "      <td>-95.0</td>\n",
       "    </tr>\n",
       "    <tr>\n",
       "      <th>4</th>\n",
       "      <td>Thailand</td>\n",
       "      <td>Bangkok</td>\n",
       "      <td>GFO8847</td>\n",
       "      <td>66</td>\n",
       "      <td>1</td>\n",
       "      <td>318</td>\n",
       "      <td>93</td>\n",
       "      <td>1</td>\n",
       "      <td>1</td>\n",
       "      <td>1</td>\n",
       "      <td>...</td>\n",
       "      <td>231</td>\n",
       "      <td>1</td>\n",
       "      <td>5</td>\n",
       "      <td>Asia</td>\n",
       "      <td>0</td>\n",
       "      <td>0</td>\n",
       "      <td>91</td>\n",
       "      <td>88</td>\n",
       "      <td>15.0</td>\n",
       "      <td>100.0</td>\n",
       "    </tr>\n",
       "  </tbody>\n",
       "</table>\n",
       "<p>5 rows × 30 columns</p>\n",
       "</div>"
      ],
      "text/plain": [
       "     Country       Capital Patient ID Age Sex Cholesterol Heart Rate Diabetes  \\\n",
       "0  Argentina  Buenos Aires    BMW7812  67   1         208         72        0   \n",
       "1     Canada        Ottawa    CZE1114  21   1         389         98        1   \n",
       "2     France         Paris    BNI9906  21   0         324         72        1   \n",
       "3     Canada        Ottawa    JLN3497  84   1         383         73        1   \n",
       "4   Thailand       Bangkok    GFO8847  66   1         318         93        1   \n",
       "\n",
       "  Family History Smoking  ... Triglycerides Physical Activity Days Per Week  \\\n",
       "0              0       1  ...           286                               0   \n",
       "1              1       1  ...           235                               1   \n",
       "2              0       0  ...           587                               4   \n",
       "3              1       1  ...           378                               3   \n",
       "4              1       1  ...           231                               1   \n",
       "\n",
       "  Sleep Hours Per Day      Continent Hemisphere Heart Attack Risk  \\\n",
       "0                   6  South America          1                 0   \n",
       "1                   7  North America          0                 0   \n",
       "2                   4         Europe          0                 0   \n",
       "3                   4  North America          0                 0   \n",
       "4                   5           Asia          0                 0   \n",
       "\n",
       "  Systolic Pressure Diastolic Pressure   lat   long  \n",
       "0               158                 88 -34.0  -64.0  \n",
       "1               165                 93  60.0  -95.0  \n",
       "2               174                 99  46.0    2.0  \n",
       "3               163                100  60.0  -95.0  \n",
       "4                91                 88  15.0  100.0  \n",
       "\n",
       "[5 rows x 30 columns]"
      ]
     },
     "execution_count": 94,
     "metadata": {},
     "output_type": "execute_result"
    }
   ],
   "source": [
    "joined_df = joined_df.toPandas()\n",
    "joined_df[:5]"
   ]
  },
  {
   "cell_type": "code",
   "execution_count": 95,
   "id": "d1a219ec-41d6-4653-a85d-b22f3eb5eccf",
   "metadata": {
    "tags": []
   },
   "outputs": [
    {
     "data": {
      "text/plain": [
       "Index(['Country', 'Capital', 'Patient ID', 'Age', 'Sex', 'Cholesterol',\n",
       "       'Heart Rate', 'Diabetes', 'Family History', 'Smoking', 'Obesity',\n",
       "       'Alcohol Consumption', 'Exercise Hours Per Week', 'Diet',\n",
       "       'Previous Heart Problems', 'Medication Use', 'Stress Level',\n",
       "       'Sedentary Hours Per Day', 'Income', 'BMI', 'Triglycerides',\n",
       "       'Physical Activity Days Per Week', 'Sleep Hours Per Day', 'Continent',\n",
       "       'Hemisphere', 'Heart Attack Risk', 'Systolic Pressure',\n",
       "       'Diastolic Pressure', 'lat', 'long'],\n",
       "      dtype='object')"
      ]
     },
     "execution_count": 95,
     "metadata": {},
     "output_type": "execute_result"
    }
   ],
   "source": [
    "joined_df.columns"
   ]
  },
  {
   "cell_type": "code",
   "execution_count": 96,
   "id": "2GcqW2Tz1e8Y",
   "metadata": {
    "colab": {
     "base_uri": "https://localhost:8080/",
     "height": 206
    },
    "id": "2GcqW2Tz1e8Y",
    "outputId": "d02ac6a6-22a8-41da-bba0-eede194cbdaa"
   },
   "outputs": [
    {
     "name": "stdout",
     "output_type": "stream",
     "text": [
      "<class 'pandas.core.frame.DataFrame'>\n",
      "RangeIndex: 8763 entries, 0 to 8762\n",
      "Data columns (total 3 columns):\n",
      " #   Column          Non-Null Count  Dtype\n",
      "---  ------          --------------  -----\n",
      " 0   Diet_Average    8763 non-null   uint8\n",
      " 1   Diet_Healthy    8763 non-null   uint8\n",
      " 2   Diet_Unhealthy  8763 non-null   uint8\n",
      "dtypes: uint8(3)\n",
      "memory usage: 25.8 KB\n"
     ]
    }
   ],
   "source": [
    "# Define categorical features\n",
    "categorical_features = ['Diet']\n",
    "categorical_dummies = pd.get_dummies(joined_df[categorical_features])\n",
    "categorical_dummies.info()"
   ]
  },
  {
   "cell_type": "code",
   "execution_count": 97,
   "id": "QvttBs5y16qv",
   "metadata": {
    "colab": {
     "base_uri": "https://localhost:8080/"
    },
    "id": "QvttBs5y16qv",
    "outputId": "1d45c95b-3a14-4f8d-f076-111163f6acbf"
   },
   "outputs": [
    {
     "data": {
      "text/html": [
       "<div>\n",
       "<style scoped>\n",
       "    .dataframe tbody tr th:only-of-type {\n",
       "        vertical-align: middle;\n",
       "    }\n",
       "\n",
       "    .dataframe tbody tr th {\n",
       "        vertical-align: top;\n",
       "    }\n",
       "\n",
       "    .dataframe thead th {\n",
       "        text-align: right;\n",
       "    }\n",
       "</style>\n",
       "<table border=\"1\" class=\"dataframe\">\n",
       "  <thead>\n",
       "    <tr style=\"text-align: right;\">\n",
       "      <th></th>\n",
       "      <th>Country</th>\n",
       "      <th>Capital</th>\n",
       "      <th>Age</th>\n",
       "      <th>Sex</th>\n",
       "      <th>Cholesterol</th>\n",
       "      <th>Heart Rate</th>\n",
       "      <th>Diabetes</th>\n",
       "      <th>Family History</th>\n",
       "      <th>Smoking</th>\n",
       "      <th>Obesity</th>\n",
       "      <th>...</th>\n",
       "      <th>Continent</th>\n",
       "      <th>Hemisphere</th>\n",
       "      <th>Heart Attack Risk</th>\n",
       "      <th>Systolic Pressure</th>\n",
       "      <th>Diastolic Pressure</th>\n",
       "      <th>lat</th>\n",
       "      <th>long</th>\n",
       "      <th>Diet_Average</th>\n",
       "      <th>Diet_Healthy</th>\n",
       "      <th>Diet_Unhealthy</th>\n",
       "    </tr>\n",
       "    <tr>\n",
       "      <th>Patient ID</th>\n",
       "      <th></th>\n",
       "      <th></th>\n",
       "      <th></th>\n",
       "      <th></th>\n",
       "      <th></th>\n",
       "      <th></th>\n",
       "      <th></th>\n",
       "      <th></th>\n",
       "      <th></th>\n",
       "      <th></th>\n",
       "      <th></th>\n",
       "      <th></th>\n",
       "      <th></th>\n",
       "      <th></th>\n",
       "      <th></th>\n",
       "      <th></th>\n",
       "      <th></th>\n",
       "      <th></th>\n",
       "      <th></th>\n",
       "      <th></th>\n",
       "      <th></th>\n",
       "    </tr>\n",
       "  </thead>\n",
       "  <tbody>\n",
       "    <tr>\n",
       "      <th>BMW7812</th>\n",
       "      <td>Argentina</td>\n",
       "      <td>Buenos Aires</td>\n",
       "      <td>67</td>\n",
       "      <td>1</td>\n",
       "      <td>208</td>\n",
       "      <td>72</td>\n",
       "      <td>0</td>\n",
       "      <td>0</td>\n",
       "      <td>1</td>\n",
       "      <td>0</td>\n",
       "      <td>...</td>\n",
       "      <td>South America</td>\n",
       "      <td>1</td>\n",
       "      <td>0</td>\n",
       "      <td>158</td>\n",
       "      <td>88</td>\n",
       "      <td>-34.0</td>\n",
       "      <td>-64.0</td>\n",
       "      <td>1</td>\n",
       "      <td>0</td>\n",
       "      <td>0</td>\n",
       "    </tr>\n",
       "    <tr>\n",
       "      <th>CZE1114</th>\n",
       "      <td>Canada</td>\n",
       "      <td>Ottawa</td>\n",
       "      <td>21</td>\n",
       "      <td>1</td>\n",
       "      <td>389</td>\n",
       "      <td>98</td>\n",
       "      <td>1</td>\n",
       "      <td>1</td>\n",
       "      <td>1</td>\n",
       "      <td>1</td>\n",
       "      <td>...</td>\n",
       "      <td>North America</td>\n",
       "      <td>0</td>\n",
       "      <td>0</td>\n",
       "      <td>165</td>\n",
       "      <td>93</td>\n",
       "      <td>60.0</td>\n",
       "      <td>-95.0</td>\n",
       "      <td>0</td>\n",
       "      <td>0</td>\n",
       "      <td>1</td>\n",
       "    </tr>\n",
       "    <tr>\n",
       "      <th>BNI9906</th>\n",
       "      <td>France</td>\n",
       "      <td>Paris</td>\n",
       "      <td>21</td>\n",
       "      <td>0</td>\n",
       "      <td>324</td>\n",
       "      <td>72</td>\n",
       "      <td>1</td>\n",
       "      <td>0</td>\n",
       "      <td>0</td>\n",
       "      <td>0</td>\n",
       "      <td>...</td>\n",
       "      <td>Europe</td>\n",
       "      <td>0</td>\n",
       "      <td>0</td>\n",
       "      <td>174</td>\n",
       "      <td>99</td>\n",
       "      <td>46.0</td>\n",
       "      <td>2.0</td>\n",
       "      <td>0</td>\n",
       "      <td>1</td>\n",
       "      <td>0</td>\n",
       "    </tr>\n",
       "    <tr>\n",
       "      <th>JLN3497</th>\n",
       "      <td>Canada</td>\n",
       "      <td>Ottawa</td>\n",
       "      <td>84</td>\n",
       "      <td>1</td>\n",
       "      <td>383</td>\n",
       "      <td>73</td>\n",
       "      <td>1</td>\n",
       "      <td>1</td>\n",
       "      <td>1</td>\n",
       "      <td>0</td>\n",
       "      <td>...</td>\n",
       "      <td>North America</td>\n",
       "      <td>0</td>\n",
       "      <td>0</td>\n",
       "      <td>163</td>\n",
       "      <td>100</td>\n",
       "      <td>60.0</td>\n",
       "      <td>-95.0</td>\n",
       "      <td>1</td>\n",
       "      <td>0</td>\n",
       "      <td>0</td>\n",
       "    </tr>\n",
       "    <tr>\n",
       "      <th>GFO8847</th>\n",
       "      <td>Thailand</td>\n",
       "      <td>Bangkok</td>\n",
       "      <td>66</td>\n",
       "      <td>1</td>\n",
       "      <td>318</td>\n",
       "      <td>93</td>\n",
       "      <td>1</td>\n",
       "      <td>1</td>\n",
       "      <td>1</td>\n",
       "      <td>1</td>\n",
       "      <td>...</td>\n",
       "      <td>Asia</td>\n",
       "      <td>0</td>\n",
       "      <td>0</td>\n",
       "      <td>91</td>\n",
       "      <td>88</td>\n",
       "      <td>15.0</td>\n",
       "      <td>100.0</td>\n",
       "      <td>0</td>\n",
       "      <td>0</td>\n",
       "      <td>1</td>\n",
       "    </tr>\n",
       "  </tbody>\n",
       "</table>\n",
       "<p>5 rows × 31 columns</p>\n",
       "</div>"
      ],
      "text/plain": [
       "              Country       Capital Age Sex Cholesterol Heart Rate Diabetes  \\\n",
       "Patient ID                                                                    \n",
       "BMW7812     Argentina  Buenos Aires  67   1         208         72        0   \n",
       "CZE1114        Canada        Ottawa  21   1         389         98        1   \n",
       "BNI9906        France         Paris  21   0         324         72        1   \n",
       "JLN3497        Canada        Ottawa  84   1         383         73        1   \n",
       "GFO8847      Thailand       Bangkok  66   1         318         93        1   \n",
       "\n",
       "           Family History Smoking Obesity  ...      Continent Hemisphere  \\\n",
       "Patient ID                                 ...                             \n",
       "BMW7812                 0       1       0  ...  South America          1   \n",
       "CZE1114                 1       1       1  ...  North America          0   \n",
       "BNI9906                 0       0       0  ...         Europe          0   \n",
       "JLN3497                 1       1       0  ...  North America          0   \n",
       "GFO8847                 1       1       1  ...           Asia          0   \n",
       "\n",
       "           Heart Attack Risk Systolic Pressure Diastolic Pressure   lat  \\\n",
       "Patient ID                                                                \n",
       "BMW7812                    0               158                 88 -34.0   \n",
       "CZE1114                    0               165                 93  60.0   \n",
       "BNI9906                    0               174                 99  46.0   \n",
       "JLN3497                    0               163                100  60.0   \n",
       "GFO8847                    0                91                 88  15.0   \n",
       "\n",
       "             long Diet_Average Diet_Healthy Diet_Unhealthy  \n",
       "Patient ID                                                  \n",
       "BMW7812     -64.0            1            0              0  \n",
       "CZE1114     -95.0            0            0              1  \n",
       "BNI9906       2.0            0            1              0  \n",
       "JLN3497     -95.0            1            0              0  \n",
       "GFO8847     100.0            0            0              1  \n",
       "\n",
       "[5 rows x 31 columns]"
      ]
     },
     "execution_count": 97,
     "metadata": {},
     "output_type": "execute_result"
    }
   ],
   "source": [
    "encoded_df = pd.concat([joined_df.drop(categorical_features, axis=1), categorical_dummies], axis=1)\n",
    "encoded_df['Patient ID'] = joined_df['Patient ID']\n",
    "encoded_df = encoded_df.set_index('Patient ID')\n",
    "encoded_df[:5]"
   ]
  },
  {
   "cell_type": "code",
   "execution_count": 98,
   "id": "468125f9-64cd-47a3-9074-0b500b7d3c2d",
   "metadata": {
    "tags": []
   },
   "outputs": [
    {
     "name": "stdout",
     "output_type": "stream",
     "text": [
      "<class 'pandas.core.frame.DataFrame'>\n",
      "Index: 8763 entries, BMW7812 to ZWN9666\n",
      "Data columns (total 31 columns):\n",
      " #   Column                           Non-Null Count  Dtype  \n",
      "---  ------                           --------------  -----  \n",
      " 0   Country                          8763 non-null   object \n",
      " 1   Capital                          8763 non-null   object \n",
      " 2   Age                              8763 non-null   object \n",
      " 3   Sex                              8763 non-null   object \n",
      " 4   Cholesterol                      8763 non-null   object \n",
      " 5   Heart Rate                       8763 non-null   object \n",
      " 6   Diabetes                         8763 non-null   object \n",
      " 7   Family History                   8763 non-null   object \n",
      " 8   Smoking                          8763 non-null   object \n",
      " 9   Obesity                          8763 non-null   object \n",
      " 10  Alcohol Consumption              8763 non-null   object \n",
      " 11  Exercise Hours Per Week          8763 non-null   object \n",
      " 12  Previous Heart Problems          8763 non-null   object \n",
      " 13  Medication Use                   8763 non-null   object \n",
      " 14  Stress Level                     8763 non-null   object \n",
      " 15  Sedentary Hours Per Day          8763 non-null   object \n",
      " 16  Income                           8763 non-null   object \n",
      " 17  BMI                              8763 non-null   object \n",
      " 18  Triglycerides                    8763 non-null   object \n",
      " 19  Physical Activity Days Per Week  8763 non-null   object \n",
      " 20  Sleep Hours Per Day              8763 non-null   object \n",
      " 21  Continent                        8763 non-null   object \n",
      " 22  Hemisphere                       8763 non-null   object \n",
      " 23  Heart Attack Risk                8763 non-null   object \n",
      " 24  Systolic Pressure                8763 non-null   int32  \n",
      " 25  Diastolic Pressure               8763 non-null   int32  \n",
      " 26  lat                              8763 non-null   float64\n",
      " 27  long                             8763 non-null   float64\n",
      " 28  Diet_Average                     8763 non-null   uint8  \n",
      " 29  Diet_Healthy                     8763 non-null   uint8  \n",
      " 30  Diet_Unhealthy                   8763 non-null   uint8  \n",
      "dtypes: float64(2), int32(2), object(24), uint8(3)\n",
      "memory usage: 1.9+ MB\n"
     ]
    }
   ],
   "source": [
    "encoded_df.info()"
   ]
  },
  {
   "cell_type": "code",
   "execution_count": 99,
   "id": "5e42ed20",
   "metadata": {
    "colab": {
     "base_uri": "https://localhost:8080/"
    },
    "id": "5e42ed20",
    "outputId": "0141952e-e0ac-4f68-d7ef-ab86f39f4050",
    "tags": []
   },
   "outputs": [
    {
     "data": {
      "text/plain": [
       "Country                             object\n",
       "Capital                             object\n",
       "Age                                  int64\n",
       "Sex                                 object\n",
       "Cholesterol                          int64\n",
       "Heart Rate                           int64\n",
       "Diabetes                             int64\n",
       "Family History                       int64\n",
       "Smoking                              int64\n",
       "Obesity                              int64\n",
       "Alcohol Consumption                  int64\n",
       "Exercise Hours Per Week            float64\n",
       "Previous Heart Problems              int64\n",
       "Medication Use                       int64\n",
       "Stress Level                         int64\n",
       "Sedentary Hours Per Day            float64\n",
       "Income                               int64\n",
       "BMI                                float64\n",
       "Triglycerides                        int64\n",
       "Physical Activity Days Per Week      int64\n",
       "Sleep Hours Per Day                  int64\n",
       "Continent                           object\n",
       "Hemisphere                          object\n",
       "Heart Attack Risk                    int64\n",
       "Systolic Pressure                    int32\n",
       "Diastolic Pressure                   int32\n",
       "lat                                float64\n",
       "long                               float64\n",
       "Diet_Average                         uint8\n",
       "Diet_Healthy                         uint8\n",
       "Diet_Unhealthy                       uint8\n",
       "dtype: object"
      ]
     },
     "execution_count": 99,
     "metadata": {},
     "output_type": "execute_result"
    }
   ],
   "source": [
    "# Convert columns to appropriate data types\n",
    "encoded_df['Age'] = encoded_df['Age'].astype(int)\n",
    "encoded_df['Cholesterol'] = encoded_df['Cholesterol'].astype(int)\n",
    "encoded_df['Heart Rate'] = encoded_df['Heart Rate'].astype(int)\n",
    "encoded_df['Diabetes'] = encoded_df['Diabetes'].astype(int)\n",
    "encoded_df['Family History'] = encoded_df['Family History'].astype(int)\n",
    "encoded_df['Smoking'] = encoded_df['Smoking'].astype(int)\n",
    "encoded_df['Obesity'] = encoded_df['Obesity'].astype(int)\n",
    "encoded_df['Alcohol Consumption'] = encoded_df['Alcohol Consumption'].astype(int)\n",
    "encoded_df['Exercise Hours Per Week'] = encoded_df['Exercise Hours Per Week'].astype(float)\n",
    "encoded_df['Previous Heart Problems'] = encoded_df['Previous Heart Problems'].astype(int)\n",
    "encoded_df['Medication Use'] = encoded_df['Medication Use'].astype(int)\n",
    "encoded_df['Stress Level'] = encoded_df['Stress Level'].astype(int)\n",
    "encoded_df['Sedentary Hours Per Day'] = encoded_df['Sedentary Hours Per Day'].astype(float)\n",
    "encoded_df['Income'] = encoded_df['Income'].astype(int)\n",
    "encoded_df['BMI'] = encoded_df['BMI'].astype(float)\n",
    "encoded_df['Triglycerides'] = encoded_df['Triglycerides'].astype(int)\n",
    "encoded_df['Physical Activity Days Per Week'] = encoded_df['Physical Activity Days Per Week'].astype(int)\n",
    "encoded_df['Sleep Hours Per Day'] = encoded_df['Sleep Hours Per Day'].astype(int)\n",
    "encoded_df['Heart Attack Risk'] = encoded_df['Heart Attack Risk'].astype(int)\n",
    "\n",
    "# Print the data types of all columns\n",
    "encoded_df.dtypes\n"
   ]
  },
  {
   "cell_type": "code",
   "execution_count": 100,
   "id": "e3ac66cf",
   "metadata": {
    "colab": {
     "base_uri": "https://localhost:8080/",
     "height": 908
    },
    "id": "e3ac66cf",
    "outputId": "0d2a6cd7-c822-44b5-979e-4acdfc63ef99"
   },
   "outputs": [
    {
     "name": "stderr",
     "output_type": "stream",
     "text": [
      "/tmp/ipykernel_9131/3005488166.py:2: FutureWarning: The default value of numeric_only in DataFrame.corr is deprecated. In a future version, it will default to False. Select only valid columns or specify the value of numeric_only to silence this warning.\n",
      "  correlation_matrix = encoded_df.corr()\n"
     ]
    },
    {
     "data": {
      "image/png": "[encoded data removed]",
      "text/plain": [
       "<Figure size 1200x1000 with 2 Axes>"
      ]
     },
     "metadata": {},
     "output_type": "display_data"
    }
   ],
   "source": [
    "# Compute the correlation matrix\n",
    "correlation_matrix = encoded_df.corr()\n",
    "\n",
    "import seaborn as sns\n",
    "import matplotlib.pyplot as plt\n",
    "\n",
    "# Visualize it using a heatmap\n",
    "plt.figure(figsize=(12, 10))\n",
    "sns.heatmap(correlation_matrix[['Heart Attack Risk']], annot=True, cmap='coolwarm', fmt=\".2f\")\n",
    "plt.title(\"Correlation with Heart Attack Risk\")\n",
    "plt.show()\n"
   ]
  },
  {
   "cell_type": "code",
   "execution_count": 101,
   "id": "43b607ad-8eb4-43b0-b48d-1d4d975828ad",
   "metadata": {
    "tags": []
   },
   "outputs": [],
   "source": [
    "# Save encoded_df as a JSON file with records orientation\n",
    "encoded_df.to_csv(\"Resources/encoded_df.csv\")"
   ]
  },
  {
   "cell_type": "code",
   "execution_count": null,
   "id": "0539bdb2",
   "metadata": {},
   "outputs": [],
   "source": [
    "encoded_df.to_csv('https://aws-project-4.s3.ca-central-1.amazonaws.com/encoded_df.csv')"
   ]
  },
  {
   "cell_type": "code",
   "execution_count": 102,
   "id": "514ce2e4-cb68-4113-bb08-f531cac2c253",
   "metadata": {
    "tags": []
   },
   "outputs": [],
   "source": [
    "# Save encoded_df as a JSON file with records orientation\n",
    "encoded_df.to_json(\"https://aws-project-4.s3.ca-central-1.amazonaws.com/encoded_df.json\")"
   ]
  }
 ],
 "metadata": {
  "colab": {
   "provenance": []
  },
  "kernelspec": {
   "display_name": "conda_tensorflow2_p310",
   "language": "python",
   "name": "conda_tensorflow2_p310"
  },
  "language_info": {
   "codemirror_mode": {
    "name": "ipython",
    "version": 3
   },
   "file_extension": ".py",
   "mimetype": "text/x-python",
   "name": "python",
   "nbconvert_exporter": "python",
   "pygments_lexer": "ipython3",
   "version": "3.10.13"
  }
 },
 "nbformat": 4,
 "nbformat_minor": 5
}
